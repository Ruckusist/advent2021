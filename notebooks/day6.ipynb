{
 "cells": [
  {
   "cell_type": "markdown",
   "metadata": {},
   "source": [
    "ADVENT OF CODE DAY 6 !!\n"
   ]
  },
  {
   "cell_type": "code",
   "execution_count": 1,
   "metadata": {},
   "outputs": [],
   "source": [
    "# start with some imports\n",
    "import os, sys, asyncio\n",
    "import time, datetime\n",
    "from timeit import default_timer as timer\n",
    "\n",
    "# and the utils\n",
    "from utils import *"
   ]
  },
  {
   "cell_type": "code",
   "execution_count": 2,
   "metadata": {},
   "outputs": [],
   "source": [
    "def get_faux():\n",
    "    return [\n",
    "    '3,4,3,1,2'\n",
    "    ]\n",
    "\n",
    "def get_real():\n",
    "    return open_day(6)"
   ]
  },
  {
   "cell_type": "code",
   "execution_count": 3,
   "metadata": {},
   "outputs": [],
   "source": [
    "def make_data(data):\n",
    "    return [int(x) for x in data[0].split(',')]"
   ]
  },
  {
   "cell_type": "code",
   "execution_count": 4,
   "metadata": {},
   "outputs": [],
   "source": [
    "def print_data(data, day):\n",
    "    # print(f'After {day} days: {len(data)} fish | ', ', '.join([str(x) for x in data]))\n",
    "    print(f'After {day} days: {len(data)} fish')"
   ]
  },
  {
   "cell_type": "code",
   "execution_count": 5,
   "metadata": {},
   "outputs": [],
   "source": [
    "def update(data):\n",
    "    new_data = []\n",
    "    for i in data:\n",
    "        if not i:  # if 0 then spawn a new fish\n",
    "            new_data.append(6)\n",
    "            new_data.append(8)\n",
    "        else:\n",
    "            new_data.append(i-1)\n",
    "    return new_data"
   ]
  },
  {
   "cell_type": "code",
   "execution_count": 13,
   "metadata": {},
   "outputs": [
    {
     "name": "stdout",
     "output_type": "stream",
     "text": [
      "working on number 0\n"
     ]
    }
   ],
   "source": [
    "def build_table():\n",
    "    superset = {}\n",
    "    for i in range(9):\n",
    "        dataset = [i]\n",
    "        print(f'working on number {i}')\n",
    "        for x in range(256):\n",
    "            dataset = update(dataset)\n",
    "            if i in [17, 79]: print_data(dataset, i+1)\n",
    "            if i % 10 == 0: print_data(dataset, i+1)\n",
    "        superset[i] = len(dataset)\n",
    "    return superset\n",
    "table = build_table()"
   ]
  },
  {
   "cell_type": "code",
   "execution_count": 12,
   "metadata": {},
   "outputs": [
    {
     "name": "stdout",
     "output_type": "stream",
     "text": [
      "{0: 1673, 1: 1421, 2: 1401, 3: 1191, 4: 1154, 5: 1034, 6: 950, 7: 905}\n"
     ]
    }
   ],
   "source": [
    "print(table)"
   ]
  },
  {
   "cell_type": "code",
   "execution_count": null,
   "metadata": {},
   "outputs": [],
   "source": [
    "# FAUX DATA PART 1\n",
    "# START TIME: 12/5/21 -- 00:00 ZM\n",
    "# Achieved correct answer for faux data @ 12/5/21 -- 00:00 ZM\n",
    "def main(real=False, verbose=True):\n",
    "    print(\"Starting Day 6!\")\n",
    "    raw_data = get_real() if real else get_faux()\n",
    "    data = make_data(raw_data)\n",
    "    print_data(data, 0)\n",
    "    for i in range(256):\n",
    "        data = update(data)\n",
    "        if i in [17, 79]:\n",
    "            print_data(data, i+1)\n",
    "        if i % 10 == 0:\n",
    "            print_data(data, i+1)\n",
    "    print_data(data, i+1)\n",
    "        \n",
    "\n",
    "main(real=False, verbose=True)"
   ]
  },
  {
   "cell_type": "code",
   "execution_count": null,
   "metadata": {},
   "outputs": [],
   "source": []
  }
 ],
 "metadata": {
  "interpreter": {
   "hash": "2be5faf79681da6f2a61fdfdd5405d65d042280f7fba6178067603e3a2925119"
  },
  "kernelspec": {
   "display_name": "Python 3.10.0 64-bit",
   "language": "python",
   "name": "python3"
  },
  "language_info": {
   "codemirror_mode": {
    "name": "ipython",
    "version": 3
   },
   "file_extension": ".py",
   "mimetype": "text/x-python",
   "name": "python",
   "nbconvert_exporter": "python",
   "pygments_lexer": "ipython3",
   "version": "3.10.0"
  },
  "orig_nbformat": 4
 },
 "nbformat": 4,
 "nbformat_minor": 2
}
