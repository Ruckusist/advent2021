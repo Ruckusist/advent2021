{
 "cells": [
  {
   "cell_type": "markdown",
   "metadata": {},
   "source": [
    "ADVENT OF CODE DAY 6 !!\n"
   ]
  },
  {
   "cell_type": "code",
   "execution_count": 1,
   "metadata": {},
   "outputs": [],
   "source": [
    "# start with some imports\n",
    "import os, sys, asyncio\n",
    "import time, datetime\n",
    "from timeit import default_timer as timer\n",
    "\n",
    "# and the utils\n",
    "from utils import *"
   ]
  },
  {
   "cell_type": "code",
   "execution_count": 2,
   "metadata": {},
   "outputs": [],
   "source": [
    "def get_faux():\n",
    "    return [\n",
    "    # FAUX DATA GOES HERE,\n",
    "    # EACH LINE SHOULD BE A STRING OF DATA.\n",
    "    # SEPERATED BY COMMAS, dont forget the commas.\n",
    "    ]\n",
    "\n",
    "def get_real():\n",
    "    return open_day(6)"
   ]
  },
  {
   "cell_type": "code",
   "execution_count": 3,
   "metadata": {},
   "outputs": [],
   "source": [
    "def make_data(data):\n",
    "    new_data = []\n",
    "    for i in data:\n",
    "        new_data.append(i)\n",
    "    return new_data"
   ]
  },
  {
   "cell_type": "code",
   "execution_count": 4,
   "metadata": {},
   "outputs": [],
   "source": [
    "def print_data(data):\n",
    "    for i in data:\n",
    "        print(' '.join(i))"
   ]
  },
  {
   "cell_type": "code",
   "execution_count": 7,
   "metadata": {},
   "outputs": [
    {
     "name": "stdout",
     "output_type": "stream",
     "text": [
      "Starting Day 6!\n"
     ]
    }
   ],
   "source": [
    "# FAUX DATA PART 1\n",
    "# START TIME: 12/5/21 -- 00:00 ZM\n",
    "# Achieved correct answer for faux data @ 12/5/21 -- 00:00 ZM\n",
    "def main(real=False, verbose=True):\n",
    "    print(\"Starting Day 6!\")\n",
    "    raw_data = get_real() if real else get_faux()\n",
    "    data = make_data(raw_data)\n",
    "    print_data(data)\n",
    "\n",
    "main(real=False, verbose=True)"
   ]
  },
  {
   "cell_type": "code",
   "execution_count": null,
   "metadata": {},
   "outputs": [],
   "source": []
  }
 ],
 "metadata": {
  "interpreter": {
   "hash": "2be5faf79681da6f2a61fdfdd5405d65d042280f7fba6178067603e3a2925119"
  },
  "kernelspec": {
   "display_name": "Python 3.10.0 64-bit",
   "language": "python",
   "name": "python3"
  },
  "language_info": {
   "codemirror_mode": {
    "name": "ipython",
    "version": 3
   },
   "file_extension": ".py",
   "mimetype": "text/x-python",
   "name": "python",
   "nbconvert_exporter": "python",
   "pygments_lexer": "ipython3",
   "version": "3.10.0"
  },
  "orig_nbformat": 4
 },
 "nbformat": 4,
 "nbformat_minor": 2
}
