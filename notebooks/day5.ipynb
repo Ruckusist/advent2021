{
 "cells": [
  {
   "cell_type": "code",
   "execution_count": 22,
   "metadata": {},
   "outputs": [],
   "source": [
    "# start with some imports\n",
    "import os, sys, asyncio\n",
    "import time, datetime\n",
    "from timeit import default_timer as timer\n",
    "\n",
    "# and the utils\n",
    "from utils import *"
   ]
  },
  {
   "cell_type": "code",
   "execution_count": 23,
   "metadata": {},
   "outputs": [],
   "source": [
    "def get_faux():\n",
    "    return [\n",
    "    '0,9 -> 5,9',\n",
    "    '8,0 -> 0,8',\n",
    "    '9,4 -> 3,4',\n",
    "    '2,2 -> 2,1',\n",
    "    '7,0 -> 7,4',\n",
    "    '6,4 -> 2,0',\n",
    "    '0,9 -> 2,9',\n",
    "    '3,4 -> 1,4',\n",
    "    '0,0 -> 8,8',\n",
    "    '5,5 -> 8,2',\n",
    "    ]\n",
    "\n",
    "def get_real():\n",
    "    return open_day(5)"
   ]
  },
  {
   "cell_type": "code",
   "execution_count": 24,
   "metadata": {},
   "outputs": [],
   "source": [
    "def make_data(data):\n",
    "    new_data = []\n",
    "    for i in data:\n",
    "        segments = i.split(' -> ')\n",
    "        line = []\n",
    "        for s in segments:\n",
    "            x = s.split(',')\n",
    "            line.append((int(x[0]), int(x[1])))\n",
    "        new_data.append(line)\n",
    "    return new_data"
   ]
  },
  {
   "cell_type": "code",
   "execution_count": 25,
   "metadata": {},
   "outputs": [],
   "source": [
    "def print_map(the_map):\n",
    "    for line in the_map:\n",
    "        print(' '.join([str(x) if x else '.' for x in line]))"
   ]
  },
  {
   "cell_type": "code",
   "execution_count": 26,
   "metadata": {},
   "outputs": [],
   "source": [
    "def start_map(data):\n",
    "    \"\"\"Figure max x and y then return an array of zeros that size.\"\"\"\n",
    "    xs = []\n",
    "    ys = []\n",
    "    for ((x1, y1), (x2, y2)) in data:\n",
    "        xs.append(x1); xs.append(x2)\n",
    "        ys.append(y1); ys.append(y2)\n",
    "    rows = max(xs)\n",
    "    columns = max(ys)\n",
    "    return [[0 for _ in range(columns+1)] for _ in range(rows+1)]"
   ]
  },
  {
   "cell_type": "code",
   "execution_count": 27,
   "metadata": {},
   "outputs": [],
   "source": [
    "def add_line(the_map, line_segment, verbose=False, blowout=True):\n",
    "    (x1, y1), (x2, y2) = line_segment\n",
    "    if verbose: print(f\"| Adding Line - ({x1}, {y2}) -> ({x2}, {y2})\")\n",
    "\n",
    "    # Blow out line if its not straight H or V\n",
    "    if blowout and not any([x1 == x2, y1 == y2]):\n",
    "        if verbose: print(\"Blowing out this line! not straight!\")\n",
    "        return the_map\n",
    "\n",
    "    # okay, this is a good line, lets add it.\n",
    "    new_map = []\n",
    "    for row_index, line in enumerate(the_map):\n",
    "        new_row = []\n",
    "        for column_index, position in enumerate(line):\n",
    "            # if verbose: print(f\"({row_index}, {column_index}) = {position}\")\n",
    "            # if row_index in range(x1, x2+1) and \\\n",
    "            #     column_index in range(y1, y2+1):\n",
    "            #     position += 1\n",
    "            if row_index >= min([y1,y2]) and row_index <= max([y1,y2]):\n",
    "                if column_index >= min([x1,x2]) and column_index <= max([x1,x2]):\n",
    "                    position += 1\n",
    "\n",
    "            new_row.append(position)\n",
    "        new_map.append(new_row)\n",
    "\n",
    "    return new_map"
   ]
  },
  {
   "cell_type": "code",
   "execution_count": 28,
   "metadata": {},
   "outputs": [],
   "source": [
    "def get_score(the_map):\n",
    "    score = 0\n",
    "    for line in the_map:\n",
    "        for position in line:\n",
    "            if position >= 2:\n",
    "                score += 1\n",
    "    return score"
   ]
  },
  {
   "cell_type": "code",
   "execution_count": 29,
   "metadata": {},
   "outputs": [
    {
     "name": "stdout",
     "output_type": "stream",
     "text": [
      "Finished Map:\n",
      ". . . . . . . 1 . .\n",
      ". . 1 . . . . 1 . .\n",
      ". . 1 . . . . 1 . .\n",
      ". . . . . . . 1 . .\n",
      ". 1 1 2 1 1 1 2 1 1\n",
      ". . . . . . . . . .\n",
      ". . . . . . . . . .\n",
      ". . . . . . . . . .\n",
      ". . . . . . . . . .\n",
      "2 2 2 1 1 1 . . . .\n",
      "The Score is: 5\n"
     ]
    }
   ],
   "source": [
    "# FAUX DATA PART 1\n",
    "def main(real=False, verbose=True):\n",
    "    # get data\n",
    "    raw_data = get_real() if real else get_faux()\n",
    "    # fix the data from input strings to useable dataset\n",
    "    data = make_data(raw_data)\n",
    "    # build a map!\n",
    "    the_map = start_map(data)\n",
    "    # if verbose: print_map(the_map)\n",
    "\n",
    "    # start the game Draw lines one at a time\n",
    "    # until there are no more lines, then evaluate the map\n",
    "    for line_segment in data:\n",
    "        the_map = add_line(the_map, line_segment, False)\n",
    "        # break\n",
    "\n",
    "    if verbose:\n",
    "      print(\"Finished Map:\")\n",
    "      print_map(the_map)\n",
    "\n",
    "    score = get_score(the_map)\n",
    "    print(f\"The Score is: {score}\")\n",
    "\n",
    "# Faux data Part 1 start time was around 6:15 pm\n",
    "# Faux data Part 1 returns correct answer of 5 @ 7:34 pm took 1h 15m\n",
    "main(real=False, verbose=True)"
   ]
  },
  {
   "cell_type": "code",
   "execution_count": 30,
   "metadata": {},
   "outputs": [],
   "source": [
    "# REAL DATA PART 1\n",
    "def main(real=False, verbose=True):\n",
    "    # get data\n",
    "    raw_data = get_real() if real else get_faux()\n",
    "    # fix the data from input strings to useable dataset\n",
    "    data = make_data(raw_data)\n",
    "    # build a map!\n",
    "    the_map = start_map(data)\n",
    "    # if verbose: print_map(the_map)\n",
    "\n",
    "    # start the game Draw lines one at a time\n",
    "    # until there are no more lines, then evaluate the map\n",
    "    for line_segment in data:\n",
    "        the_map = add_line(the_map, line_segment, False)\n",
    "        # break\n",
    "\n",
    "    if verbose:\n",
    "      print(\"Finished Map:\")\n",
    "      print_map(the_map)\n",
    "\n",
    "    score = get_score(the_map)\n",
    "    print(f\"The Score is: {score}\")\n",
    "\n",
    "# real data Part 1 start time was around 7:35 pm\n",
    "# real data Part 1 finish time was around 7:38 pm\n",
    "# correct answer is 7473 this took 2 mins to compute with this program.\n",
    "# main(real=True, verbose=False)"
   ]
  },
  {
   "cell_type": "code",
   "execution_count": 31,
   "metadata": {},
   "outputs": [],
   "source": [
    "def add_line(the_map, line_segment, verbose=False, blowout=True):\n",
    "    (x1, y1), (x2, y2) = line_segment\n",
    "    if verbose: print(f\"| Adding Line - ({x1}, {y2}) -> ({x2}, {y2})\")\n",
    "\n",
    "    # Blow out line if its not straight H or V\n",
    "    if blowout and not any([x1 == x2, y1 == y2]):\n",
    "        if verbose: print(\"Blowing out this line! not straight!\")\n",
    "        return the_map\n",
    "\n",
    "    # okay, this is a good line, lets add it.\n",
    "    new_map = []\n",
    "    for row_index, line in enumerate(the_map):\n",
    "        new_row = []\n",
    "        for column_index, position in enumerate(line):\n",
    "            # if verbose: print(f\"({row_index}, {column_index}) = {position}\")\n",
    "            # if row_index in range(x1, x2+1) and \\\n",
    "            #     column_index in range(y1, y2+1):\n",
    "            #     position += 1\n",
    "            if row_index >= min([y1,y2]) and row_index <= max([y1,y2]):\n",
    "                if column_index >= min([x1,x2]) and column_index <= max([x1,x2]):\n",
    "                    position += 1\n",
    "\n",
    "            new_row.append(position)\n",
    "        new_map.append(new_row)\n",
    "\n",
    "    return new_map"
   ]
  },
  {
   "cell_type": "code",
   "execution_count": 32,
   "metadata": {},
   "outputs": [],
   "source": [
    "def convert_line_to_points(line_segment):\n",
    "    (x1, y1), (x2, y2) = line_segment\n",
    "    x_counter = min([x1,x2])\n",
    "    y_counter = min([y1,y2])\n",
    "    x_stop = max([x1,x2])\n",
    "    y_stop = max([y1,y2])\n",
    "    # print(f\"x min = {x_counter} | x max = {x_stop}\")\n",
    "    # print(f\"y min = {y_counter} | y max = {y_stop}\")\n",
    "    points = []\n",
    "    # this is a straight line\n",
    "    if any([x1 == x2, y1 == y2]):\n",
    "        for x in range(x_counter, x_stop+1):\n",
    "            for y in range(y_counter, y_stop+1):\n",
    "                points.append((x,y))\n",
    "                \n",
    "    # this will be diagonal lines\n",
    "    else:\n",
    "        while True:\n",
    "            point = (x1, y1)\n",
    "            points.append(point)\n",
    "            if x1 == x2: break\n",
    "\n",
    "            if x1 < x2: \n",
    "                x1 += 1\n",
    "            else:\n",
    "                x1 -= 1\n",
    "            \n",
    "            if y1 < y2:\n",
    "                y1 += 1\n",
    "            else:\n",
    "                y1 -= 1\n",
    "    return points"
   ]
  },
  {
   "cell_type": "code",
   "execution_count": 36,
   "metadata": {},
   "outputs": [],
   "source": [
    "def update_point(the_map, point):\n",
    "    try:\n",
    "        the_map[point[1]][point[0]] += 1\n",
    "    except Exception as e:\n",
    "        print(f\"Error: point: {point}\")\n",
    "        print(e)\n",
    "    return the_map"
   ]
  },
  {
   "cell_type": "code",
   "execution_count": 37,
   "metadata": {},
   "outputs": [
    {
     "name": "stdout",
     "output_type": "stream",
     "text": [
      "Finished Map:\n",
      "1 . 1 . . . . 1 1 .\n",
      ". 1 1 1 . . . 2 . .\n",
      ". . 2 . 1 . 1 1 1 .\n",
      ". . . 1 . 2 . 2 . .\n",
      ". 1 1 2 3 1 3 2 1 1\n",
      ". . . 1 . 2 . . . .\n",
      ". . 1 . . . 1 . . .\n",
      ". 1 . . . . . 1 . .\n",
      "1 . . . . . . . 1 .\n",
      "2 2 2 1 1 1 . . . .\n",
      "The Score is: 12\n"
     ]
    }
   ],
   "source": [
    "# Faux data Part 2!!\n",
    "def main(real=False, verbose=True):\n",
    "    raw_data = get_real() if real else get_faux()\n",
    "    data = make_data(raw_data)\n",
    "    the_map = start_map(data)\n",
    "\n",
    "    # convert all lines to points\n",
    "    points = []\n",
    "    for line_segment in data:\n",
    "      points.extend(convert_line_to_points(line_segment))\n",
    "      # break\n",
    "\n",
    "    # print(points)\n",
    "    for point in points:\n",
    "      the_map = update_point(the_map, point)\n",
    "\n",
    "    if verbose:\n",
    "      print(\"Finished Map:\")\n",
    "      print_map(the_map)\n",
    "\n",
    "    score = get_score(the_map)\n",
    "    print(f\"The Score is: {score}\")\n",
    "\n",
    "# Faux Data Part 2 -- start time 7:45 pm\n",
    "# Faux Data Part 2 -- end time 8:38 pm with correct answer of 12\n",
    "main(real=False, verbose=True)"
   ]
  },
  {
   "cell_type": "code",
   "execution_count": 39,
   "metadata": {},
   "outputs": [
    {
     "name": "stdout",
     "output_type": "stream",
     "text": [
      "Map size: x: 991, y: 990\n",
      "Error: point: (990, 118)\n",
      "list index out of range\n",
      "The Score is: 24164\n"
     ]
    }
   ],
   "source": [
    "# Real data Part 2!!\n",
    "def main(real=False, verbose=True):\n",
    "    raw_data = get_real() if real else get_faux()\n",
    "    data = make_data(raw_data)\n",
    "    the_map = start_map(data)\n",
    "    print(f\"Map size: x: {len(the_map)}, y: {len(the_map[0])}\")\n",
    "\n",
    "    # convert all lines to points\n",
    "    points = []\n",
    "    for line_segment in data:\n",
    "      points.extend(convert_line_to_points(line_segment))\n",
    "      # break\n",
    "\n",
    "    # print(points)\n",
    "    for point in points:\n",
    "      the_map = update_point(the_map, point)\n",
    "\n",
    "    if verbose:\n",
    "      print(\"Finished Map:\")\n",
    "      print_map(the_map)\n",
    "\n",
    "    score = get_score(the_map)\n",
    "    print(f\"The Score is: {score}\")\n",
    "\n",
    "# Real Data Part 2 -- start time 8:40 pm\n",
    "main(real=True, verbose=False)"
   ]
  },
  {
   "cell_type": "code",
   "execution_count": null,
   "metadata": {},
   "outputs": [],
   "source": []
  }
 ],
 "metadata": {
  "interpreter": {
   "hash": "2be5faf79681da6f2a61fdfdd5405d65d042280f7fba6178067603e3a2925119"
  },
  "kernelspec": {
   "display_name": "Python 3.10.0 64-bit",
   "language": "python",
   "name": "python3"
  },
  "language_info": {
   "codemirror_mode": {
    "name": "ipython",
    "version": 3
   },
   "file_extension": ".py",
   "mimetype": "text/x-python",
   "name": "python",
   "nbconvert_exporter": "python",
   "pygments_lexer": "ipython3",
   "version": "3.10.0"
  },
  "orig_nbformat": 4
 },
 "nbformat": 4,
 "nbformat_minor": 2
}
