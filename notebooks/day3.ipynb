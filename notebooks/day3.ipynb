{
 "cells": [
  {
   "cell_type": "code",
   "execution_count": 1,
   "metadata": {},
   "outputs": [],
   "source": [
    "# start with some imports\n",
    "import os, sys, asyncio\n",
    "import time, datetime\n",
    "from timeit import default_timer as timer\n",
    "\n",
    "# and the utils\n",
    "from utils import *"
   ]
  },
  {
   "cell_type": "code",
   "execution_count": 2,
   "metadata": {},
   "outputs": [],
   "source": [
    "data = open_day(3)"
   ]
  },
  {
   "cell_type": "code",
   "execution_count": 3,
   "metadata": {},
   "outputs": [],
   "source": [
    "faux_data = [\n",
    "    '00100',\n",
    "    '11110',\n",
    "    '10110',\n",
    "    '10111',\n",
    "    '10101',\n",
    "    '01111',\n",
    "    '00111',\n",
    "    '11100',\n",
    "    '10000',\n",
    "    '11001',\n",
    "    '00010',\n",
    "    '01010',\n",
    "]\n",
    "# data = faux_data"
   ]
  },
  {
   "cell_type": "code",
   "execution_count": null,
   "metadata": {},
   "outputs": [],
   "source": [
    "# data = [bytes(x, 'utf-8') for x in data]"
   ]
  },
  {
   "cell_type": "code",
   "execution_count": null,
   "metadata": {},
   "outputs": [],
   "source": [
    "print(data[0]+data[1])\n",
    "print(f\"{b2n(data[0]+data[1])}\")"
   ]
  },
  {
   "cell_type": "code",
   "execution_count": null,
   "metadata": {},
   "outputs": [],
   "source": [
    "def part_1(data):\n",
    "    def get_rate(data, epsilon=False):\n",
    "        epsilon_data = []\n",
    "        length = len(data[0])\n",
    "        for i in range(length):\n",
    "            d = [x[i] for x in data]\n",
    "            epsilon_data.append(d)\n",
    "        epsilon_string = \"\"\n",
    "        for i in epsilon_data:\n",
    "            x = ''.join([y for y in i])\n",
    "            x_count_1s = x.count('1')\n",
    "            x_count_0s = x.count('0')\n",
    "            if epsilon:\n",
    "                epsilon_string += '1' if x_count_1s >= x_count_0s else '0'\n",
    "            else:\n",
    "                epsilon_string += '1' if x_count_1s < x_count_0s else '0'\n",
    "        epsilon_string = bytes(epsilon_string, encoding='utf-8')\n",
    "        return b2n(epsilon_string), str(epsilon_string, encoding='utf-8')\n",
    "    EPSILON, es = get_rate(data, epsilon=True)\n",
    "    GAMMA, gs = get_rate(data, epsilon=False)\n",
    "    answer = EPSILON * GAMMA\n",
    "\n",
    "    print(f\"power usage is e:{EPSILON} * g:{GAMMA}\")\n",
    "    print(f\"p(Answer): {answer}\")\n",
    "    return answer, es, gs"
   ]
  },
  {
   "cell_type": "code",
   "execution_count": null,
   "metadata": {},
   "outputs": [],
   "source": [
    "part_1_faux, faux_e, faux_g = part_1(faux_data)\n",
    "part_1_data, real_e, real_g = part_1(data)"
   ]
  },
  {
   "cell_type": "code",
   "execution_count": null,
   "metadata": {},
   "outputs": [],
   "source": [
    "def get_subset(data, c, oxygen=True):\n",
    "    print(c)\n",
    "    subset = data.copy()\n",
    "    # for element in range(len(data)):\n",
    "    #     if len(subset) == 1: break\n",
    "    #     for index in range(len(c)):\n",
    "    #         if len(subset) == 1: break\n",
    "            \n",
    "    #         lookup = c[index]  # THIS IS THE CORRECT BIT IN THE INDEX\n",
    "    #         in_here = data[element]  # this is the number we are analyzing, data element number 42\n",
    "    #         if in_here[index] == lookup: continue\n",
    "    #         else:\n",
    "    #             subset = blowout(in_here, subset) # blow out all elements where looup and \n",
    "\n",
    "    #     # break\n",
    "    # print(f\"SUBSET: LEN: {len(subset)}\\n\\tDATA: {' '.join(subset)}\")\n",
    "    return subset[0]"
   ]
  },
  {
   "cell_type": "code",
   "execution_count": null,
   "metadata": {},
   "outputs": [],
   "source": [
    "def part_2(data, e, g):\n",
    "    oxygen = get_subset(data, e, True)\n",
    "    co2 = get_subset(data, g, False)\n",
    "    print(f\"o2:{oxygen} | co2: {co2}\")\n",
    "\n",
    "part_2_faux = part_2(faux_data, faux_e, faux_g)\n"
   ]
  },
  {
   "cell_type": "code",
   "execution_count": null,
   "metadata": {},
   "outputs": [],
   "source": [
    "def get_common_element_at_location(mainset, location):\n",
    "    subset = [element[location] for element in mainset]\n",
    "    return int(max(set(subset), key=subset.count))\n",
    "\n",
    "x = get_common_element_at_location(faux_data, 4)\n",
    "print(x)"
   ]
  },
  {
   "cell_type": "code",
   "execution_count": null,
   "metadata": {},
   "outputs": [],
   "source": [
    "def get_common_element_at_location(mainset, location, most=True, verbose=False):\n",
    "    subset = [element[location] for element in mainset]\n",
    "    num1s = subset.count('1')\n",
    "    num0s = subset.count('0')\n",
    "    if most:\n",
    "        most_common = 1 if num1s == num0s else max(set(subset), key = subset.count)\n",
    "        if verbose: print(f\"#1: {num1s}, #0: {num0s} | most common: {most_common}\")\n",
    "    else:\n",
    "        most_common = 1 if num1s == num0s else min(set(subset), key = subset.count)\n",
    "        if verbose: print(f\"#1: {num1s}, #0: {num0s} | least common: {most_common}\")\n",
    "    if verbose: print(''.join(subset), len(subset))\n",
    "    return most_common\n",
    "x = get_common_element_at_location(faux_data, 1, most=False)\n",
    "print(x)"
   ]
  },
  {
   "cell_type": "code",
   "execution_count": null,
   "metadata": {},
   "outputs": [],
   "source": [
    "# subset = faux_data.copy()\n",
    "def get_reading(data, oxygen=True, verbose=False):\n",
    "    if verbose: print(f\"starting set size: {len(data)}\")\n",
    "    for position in range(len(data[0])):\n",
    "        if len(data) == 1: break\n",
    "        # most_common = get_common_element_at_location(data, position, oxygen, False)\n",
    "        most_common = get_common_element_at_location(data, position)\n",
    "        if verbose: print(f\"checking for {most_common} in postion# {position}\")\n",
    "        # if verbose: print(data)\n",
    "        minor = data.copy()\n",
    "        for number in data:\n",
    "            if len(minor) == 1: break\n",
    "            if verbose: print(f\"\\tchecking this number: {number}\")\n",
    "            compare_element = int(number[position])\n",
    "            truth = compare_element == most_common\n",
    "            if verbose: print(f\"\\t\\tis {compare_element}-{type(compare_element)} the same as most common {most_common}-{type(most_common)}? {truth}\")\n",
    "            if truth: continue\n",
    "            minor.remove(number)\n",
    "            if verbose: print(f\"\\t\\tBlowing out element! New set size: {len(minor)}\")\n",
    "        data = minor\n",
    "\n",
    "    # print(data)\n",
    "    assert len(data) == 1\n",
    "    return data[0]\n",
    "\n",
    "# get_reading(subset, False, True)"
   ]
  },
  {
   "cell_type": "code",
   "execution_count": null,
   "metadata": {},
   "outputs": [],
   "source": [
    "# ATTEMPT #1 - 4338710 -- TOO LOW!!\n",
    "# ATTEMPT #2 - 4514787 -- TOO HIGH!! -- changes were casting the compares as ints\n",
    "oxygen_reading = get_reading(faux_data, True, True)\n",
    "co2_reading = get_reading(faux_data, False, True)\n",
    "oxygen_dec = b2n(bytes(oxygen_reading, encoding='utf-8'))\n",
    "co2_dec = b2n(bytes(co2_reading, encoding='utf-8'))\n",
    "answer = oxygen_dec * co2_dec\n",
    "print(oxygen_reading, co2_reading)\n",
    "print(oxygen_dec,co2_dec, answer)"
   ]
  },
  {
   "cell_type": "code",
   "execution_count": 13,
   "metadata": {},
   "outputs": [],
   "source": [
    "# CORRECT ANSWER #3 4481199\n",
    "def again(data, most=True):\n",
    "    for index in range(len(data[0])):\n",
    "        if len(data) == 1: break\n",
    "        \n",
    "        # get most common element in column\n",
    "        column = [x[index] for x in data]\n",
    "        num_of_ones = column.count('1')\n",
    "        num_of_zeros = column.count('0')\n",
    "        if most:\n",
    "            most_common = 1 if num_of_ones >= num_of_zeros else 0\n",
    "        else:\n",
    "            most_common = 1 if num_of_ones < num_of_zeros else 0\n",
    "\n",
    "        subset = data.copy()\n",
    "        for element in data:\n",
    "            compare_element = element[index]\n",
    "            truth = int(compare_element) == int(most_common)\n",
    "            if not truth:\n",
    "                subset.remove(element)\n",
    "        data = subset\n",
    "    return data"
   ]
  },
  {
   "cell_type": "code",
   "execution_count": 16,
   "metadata": {},
   "outputs": [
    {
     "name": "stdout",
     "output_type": "stream",
     "text": [
      "['101011101111']\n"
     ]
    }
   ],
   "source": [
    "x = again(data)\n",
    "print(x)"
   ]
  },
  {
   "cell_type": "code",
   "execution_count": 17,
   "metadata": {},
   "outputs": [
    {
     "name": "stdout",
     "output_type": "stream",
     "text": [
      "['011001000001']\n"
     ]
    }
   ],
   "source": [
    "y = again(data, False)\n",
    "print(y)"
   ]
  },
  {
   "cell_type": "code",
   "execution_count": 20,
   "metadata": {},
   "outputs": [
    {
     "name": "stdout",
     "output_type": "stream",
     "text": [
      "2799\n"
     ]
    }
   ],
   "source": [
    "dec_x = b2n(bytes(x[0], encoding='utf-8'))\n",
    "print(dec_x)"
   ]
  },
  {
   "cell_type": "code",
   "execution_count": 21,
   "metadata": {},
   "outputs": [
    {
     "name": "stdout",
     "output_type": "stream",
     "text": [
      "1601\n"
     ]
    }
   ],
   "source": [
    "dec_y = b2n(bytes(y[0], encoding='utf-8'))\n",
    "print(dec_y)"
   ]
  },
  {
   "cell_type": "code",
   "execution_count": 22,
   "metadata": {},
   "outputs": [
    {
     "data": {
      "text/plain": [
       "4481199"
      ]
     },
     "execution_count": 22,
     "metadata": {},
     "output_type": "execute_result"
    }
   ],
   "source": [
    "2799 * 1601"
   ]
  },
  {
   "cell_type": "code",
   "execution_count": null,
   "metadata": {},
   "outputs": [],
   "source": []
  }
 ],
 "metadata": {
  "interpreter": {
   "hash": "2be5faf79681da6f2a61fdfdd5405d65d042280f7fba6178067603e3a2925119"
  },
  "kernelspec": {
   "display_name": "Python 3.10.0 64-bit",
   "language": "python",
   "name": "python3"
  },
  "language_info": {
   "codemirror_mode": {
    "name": "ipython",
    "version": 3
   },
   "file_extension": ".py",
   "mimetype": "text/x-python",
   "name": "python",
   "nbconvert_exporter": "python",
   "pygments_lexer": "ipython3",
   "version": "3.10.0"
  },
  "orig_nbformat": 4
 },
 "nbformat": 4,
 "nbformat_minor": 2
}
