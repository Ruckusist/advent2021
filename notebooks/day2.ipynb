{
 "cells": [
  {
   "cell_type": "code",
   "execution_count": 1,
   "metadata": {},
   "outputs": [],
   "source": [
    "# start with some imports\n",
    "import os, sys, asyncio\n",
    "import time, datetime\n",
    "from timeit import default_timer as timer\n",
    "\n",
    "# and the utils\n",
    "from utils import *"
   ]
  },
  {
   "cell_type": "code",
   "execution_count": 2,
   "metadata": {},
   "outputs": [],
   "source": [
    "data = open_day(2)"
   ]
  },
  {
   "cell_type": "code",
   "execution_count": null,
   "metadata": {},
   "outputs": [],
   "source": [
    "faux_data = [\n",
    "    \"forward 5\",\n",
    "    \"down 5\",\n",
    "    \"forward 8\",\n",
    "    \"up 3\",\n",
    "    \"down 8\",\n",
    "    \"forward 2\"\n",
    "]\n",
    "data = faux_data"
   ]
  },
  {
   "cell_type": "code",
   "execution_count": 3,
   "metadata": {},
   "outputs": [],
   "source": [
    "data = [(x.split(' ')[0], int(x.split(' ')[1])) for x in data]"
   ]
  },
  {
   "cell_type": "code",
   "execution_count": 9,
   "metadata": {},
   "outputs": [
    {
     "name": "stdout",
     "output_type": "stream",
     "text": [
      "took 0.0003 secs to calculate\n",
      "H: 1962 | D: 987\n",
      "answer: 1962 * 987 = 1936494\n"
     ]
    }
   ],
   "source": [
    "# part 1\n",
    "t = timer()\n",
    "h = d = 0\n",
    "for i in data:\n",
    "    if \"forward\" in i[0]:\n",
    "        h += i[1]\n",
    "    elif \"up\" in i[0]:\n",
    "        d -= i[1]\n",
    "    elif \"down\" in i[0]:\n",
    "        d += i[1]\n",
    "    else:\n",
    "        print(\"ERROR! cant read direction!\")\n",
    "print(f\"took {timer()-t:.4f} secs to calculate\")\n",
    "print(f\"H: {h} | D: {d}\")\n",
    "answer = h*d\n",
    "print(f\"answer: {h} * {d} = {answer}\")"
   ]
  },
  {
   "cell_type": "code",
   "execution_count": 13,
   "metadata": {},
   "outputs": [
    {
     "name": "stdout",
     "output_type": "stream",
     "text": [
      "took 0.0004 secs to calculate\n",
      "H: 1962 | D: 1018880\n",
      "answer: 1962 * 1018880 = 1999042560\n"
     ]
    }
   ],
   "source": [
    "# part 2\n",
    "# wrong Answer #1 : 1999042560\n",
    "t = timer()\n",
    "h = d = a = 0\n",
    "for i in data:\n",
    "    if \"forward\" in i[0]:\n",
    "        h += i[1]\n",
    "        d += a*i[1]\n",
    "    elif \"up\" in i[0]:\n",
    "        d -= i[1]\n",
    "        a -= i[1]\n",
    "    elif \"down\" in i[0]:\n",
    "        d += i[1]\n",
    "        a += i[1]\n",
    "    else:\n",
    "        print(\"ERROR! cant read direction!\")\n",
    "print(f\"took {timer()-t:.4f} secs to calculate\")\n",
    "print(f\"H: {h} | D: {d}\")\n",
    "answer = h*d\n",
    "print(f\"answer: {h} * {d} = {answer}\")"
   ]
  },
  {
   "cell_type": "code",
   "execution_count": 14,
   "metadata": {},
   "outputs": [
    {
     "name": "stdout",
     "output_type": "stream",
     "text": [
      "took 0.0003 secs to calculate\n",
      "H: 1962 | D: 1017893\n",
      "answer: 1962 * 1017893 = 1997106066\n"
     ]
    }
   ],
   "source": [
    "# part 2 - attempt 2\n",
    "# The up and down command REPLACE the d with the a, not add it!\n",
    "# wrong Answer #1 : 1999042560\n",
    "t = timer()\n",
    "h = d = a = 0\n",
    "for i in data:\n",
    "    if \"forward\" in i[0]:\n",
    "        h += i[1]\n",
    "        d += a*i[1]\n",
    "    elif \"up\" in i[0]:\n",
    "        # d -= i[1]\n",
    "        a -= i[1]\n",
    "    elif \"down\" in i[0]:\n",
    "        # d += i[1]\n",
    "        a += i[1]\n",
    "    else:\n",
    "        print(\"ERROR! cant read direction!\")\n",
    "print(f\"took {timer()-t:.4f} secs to calculate\")\n",
    "print(f\"H: {h} | D: {d}\")\n",
    "answer = h*d\n",
    "print(f\"answer: {h} * {d} = {answer}\")\n",
    "# CORRECT ANSWER  =  1997106066"
   ]
  },
  {
   "cell_type": "code",
   "execution_count": null,
   "metadata": {},
   "outputs": [],
   "source": []
  }
 ],
 "metadata": {
  "interpreter": {
   "hash": "2be5faf79681da6f2a61fdfdd5405d65d042280f7fba6178067603e3a2925119"
  },
  "kernelspec": {
   "display_name": "Python 3.10.0 64-bit",
   "language": "python",
   "name": "python3"
  },
  "language_info": {
   "codemirror_mode": {
    "name": "ipython",
    "version": 3
   },
   "file_extension": ".py",
   "mimetype": "text/x-python",
   "name": "python",
   "nbconvert_exporter": "python",
   "pygments_lexer": "ipython3",
   "version": "3.10.0"
  },
  "orig_nbformat": 4
 },
 "nbformat": 4,
 "nbformat_minor": 2
}
