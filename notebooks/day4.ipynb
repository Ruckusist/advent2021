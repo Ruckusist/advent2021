{
 "cells": [
  {
   "cell_type": "code",
   "execution_count": 1,
   "metadata": {},
   "outputs": [],
   "source": [
    "# start with some imports\n",
    "import os, sys, asyncio\n",
    "import time, datetime\n",
    "from timeit import default_timer as timer\n",
    "\n",
    "# and the utils\n",
    "from utils import *"
   ]
  },
  {
   "cell_type": "code",
   "execution_count": 2,
   "metadata": {},
   "outputs": [],
   "source": [
    "def get_real():\n",
    "    return open_day(4)"
   ]
  },
  {
   "cell_type": "code",
   "execution_count": 3,
   "metadata": {},
   "outputs": [],
   "source": [
    "def get_faux():\n",
    "    return [\n",
    "    [7,4,9,5,11,17,23,2,0,14,21,24,10,16,13,6,15,25,12,22,18,20,8,19,3,26,1],'',\n",
    "    '22 13 17 11  0',\n",
    "    '8  2 23  4 24',\n",
    "    '21  9 14 16  7',\n",
    "    '6 10  3 18  5',\n",
    "    '1 12 20 15 19','',\n",
    "    '3 15  0  2 22', \n",
    "    '9 18 13 17  5',\n",
    "    '19  8  7 25 23', \n",
    "    '20 11 10 24  4',\n",
    "    '14 21 16 12  6','',\n",
    "    '14 21 17 24  4',\n",
    "    '10 16 15  9 19',\n",
    "    '18  8 23 26 20',\n",
    "    '22 11 13  6  5',\n",
    "    '2  0 12  3  7',''\n",
    "    ]"
   ]
  },
  {
   "cell_type": "code",
   "execution_count": 4,
   "metadata": {},
   "outputs": [],
   "source": [
    "def make_data(data):\n",
    "    d1 = data.pop(0)\n",
    "    if type(d1) != type(list()):\n",
    "        d1 = [int(x) for x in d1.split(',')]\n",
    "    data.pop(0)\n",
    "    return d1, data\n",
    "# d1, data = make_data(get_real())\n",
    "# print(d1)"
   ]
  },
  {
   "cell_type": "code",
   "execution_count": 5,
   "metadata": {},
   "outputs": [],
   "source": [
    "def make_boards(data):\n",
    "    boards = []\n",
    "    board = []\n",
    "    for i in data:\n",
    "        if i:\n",
    "            x = i.split(' ')\n",
    "            x = [x for x in x if x]\n",
    "            board.append(x)\n",
    "        else:\n",
    "            boards.append(board)\n",
    "            board = []\n",
    "    if board: boards.append(board)\n",
    "    return boards"
   ]
  },
  {
   "cell_type": "code",
   "execution_count": 12,
   "metadata": {},
   "outputs": [],
   "source": [
    "def check_bingos(board):\n",
    "    rows = any(set(line) == set('X') for line in board)\n",
    "    # reshape = []\n",
    "    # for x in range(len(i)):\n",
    "    #     column = [i[x] for i in board]\n",
    "    #     reshape.append(column)\n",
    "    reshape = [[i[x] for i in board] for x in range(len(board[0]))]\n",
    "    columns = any(set(line) == set('X') for line in reshape)\n",
    "    return any([rows, columns])"
   ]
  },
  {
   "cell_type": "code",
   "execution_count": 13,
   "metadata": {},
   "outputs": [],
   "source": [
    "def print_board(board, draw, board_num, board_total):\n",
    "    print('_'*18)\n",
    "    answer = draw * board_total\n",
    "    message = [\n",
    "        f'Board#: {board_num}',\n",
    "        f'Board has draw: {draw}',\n",
    "        f'Board Total: {board_total}',\n",
    "        f'Answer: Draw * Board Total',\n",
    "        f'{answer} = {draw} * {board_total}'\n",
    "    ]\n",
    "    for line in range(len(board)):\n",
    "        print('|','|'.join([f'{x:>2s}' for x in board[line]]), '|', message[line] if line < len(message) else None)\n",
    "    print('_'*18)"
   ]
  },
  {
   "cell_type": "code",
   "execution_count": 14,
   "metadata": {},
   "outputs": [],
   "source": [
    "def update_board(board, draw):\n",
    "    return [['X' if x == draw else x for x in line] for line in board]"
   ]
  },
  {
   "cell_type": "code",
   "execution_count": 15,
   "metadata": {},
   "outputs": [],
   "source": [
    "def update_all_boards(boards, draw):\n",
    "    return [update_board(board, draw) for board in boards]"
   ]
  },
  {
   "cell_type": "code",
   "execution_count": 16,
   "metadata": {},
   "outputs": [],
   "source": [
    "def calculate_board(board):\n",
    "    # new_board = [[int(x) if x != 'X' else 0 for x in line] for line in board]\n",
    "    # board_total = sum([sum(x) for x in new_board])\n",
    "    return sum([sum(x) for x in [[int(x) if x != 'X' else 0 for x in line] for line in board]])"
   ]
  },
  {
   "cell_type": "code",
   "execution_count": 17,
   "metadata": {},
   "outputs": [
    {
     "name": "stdout",
     "output_type": "stream",
     "text": [
      "GOT A BINGO! STOP THE GAME!\n",
      "__________________\n",
      "|  X| X| X| X| X | Board#: 2\n",
      "| 10|16|15| X|19 | Board has draw: 24\n",
      "| 18| 8| X|26|20 | Board Total: 188\n",
      "| 22| X|13| 6| X | Answer: Draw * Board Total\n",
      "|  X| X|12| 3| X | 4512 = 24 * 188\n",
      "__________________\n"
     ]
    }
   ],
   "source": [
    "# PART 1 MAIN!!\n",
    "def main(real=False, verbose=True):\n",
    "    winning_board = []\n",
    "    board_num = 0\n",
    "    if real:\n",
    "        data = get_real()\n",
    "    else:\n",
    "        data = get_faux()\n",
    "    draws, data = make_data(data)\n",
    "    boards = make_boards(data)\n",
    "    \n",
    "    for index, draw in enumerate(draws):\n",
    "        if verbose: print(f\"Round #{index} | DRAW: {draw}\")\n",
    "        boards = update_all_boards(boards, str(draw))\n",
    "        if any([check_bingos(x) for x in boards]): \n",
    "            print(\"GOT A BINGO! STOP THE GAME!\")\n",
    "            for board_num, board in enumerate(boards):\n",
    "                if check_bingos(board):\n",
    "                    winning_board = board\n",
    "            break\n",
    "    return winning_board, draw, board_num\n",
    "\n",
    "# FAUX DATA CORRECT ANSWER!!\n",
    "winning_board, draw, board_num = main(real=False, verbose=False)\n",
    "board_total = calculate_board(winning_board)\n",
    "print_board(winning_board, draw, board_num, board_total)"
   ]
  },
  {
   "cell_type": "code",
   "execution_count": 18,
   "metadata": {},
   "outputs": [
    {
     "name": "stdout",
     "output_type": "stream",
     "text": [
      "GOT A BINGO! STOP THE GAME!\n",
      "__________________\n",
      "|  X| X| X| X| X | Board#: 99\n",
      "|  X|95|87|64|32 | Board has draw: 14\n",
      "| 13|10|72|90|46 | Board Total: 914\n",
      "| 68|16|57| X|77 | Answer: Draw * Board Total\n",
      "| 50|69| 5|63| X | 12796 = 14 * 914\n",
      "__________________\n"
     ]
    }
   ],
   "source": [
    "# REAL DATA \n",
    "# Part 1 -------    CORRECT ANSWER!!  --  12796  -- !!\n",
    "winning_board, draw, board_num = main(real=True, verbose=False)\n",
    "board_total = calculate_board(winning_board)\n",
    "print_board(winning_board, draw, board_num, board_total)"
   ]
  },
  {
   "cell_type": "code",
   "execution_count": 33,
   "metadata": {},
   "outputs": [
    {
     "name": "stdout",
     "output_type": "stream",
     "text": [
      "__________________\n",
      "|  3|15| X| X|22 | Board#: 2\n",
      "|  X|18| X| X| X | Board has draw: 13\n",
      "| 19| 8| X|25| X | Board Total: 148\n",
      "| 20| X| X| X| X | Answer: Draw * Board Total\n",
      "|  X| X| X|12| 6 | 1924 = 13 * 148\n",
      "__________________\n"
     ]
    }
   ],
   "source": [
    "# PART 2 MAIN!!\n",
    "def main(real=False, verbose=True):\n",
    "    winning_board = []\n",
    "    board_num = 0\n",
    "    counter = 0\n",
    "    boards_won = []\n",
    "    data = get_real() if real else get_faux()\n",
    "    draws, data = make_data(data)\n",
    "    boards = make_boards(data)\n",
    "\n",
    "    for index, draw in enumerate(draws):\n",
    "        if verbose: print(f\"Round #{index} | DRAW: {draw}\")\n",
    "        boards = update_all_boards(boards, str(draw))\n",
    "        if any(check_bingos(x) for x in boards): \n",
    "            \n",
    "            for board_num, board in enumerate(boards):\n",
    "                if board_num in boards_won: \n",
    "                    if verbose: print(f\"skipping board {board_num}\")\n",
    "                    continue\n",
    "                if check_bingos(board):\n",
    "                    if verbose: print(f\"GOT A BINGO on board {board_num}! Keep going til the last one!! found: {counter}\")\n",
    "                    counter += 1\n",
    "                    boards_won.append(board_num)\n",
    "                    winning_board = board\n",
    "            \n",
    "            if counter == len(boards):\n",
    "                if verbose: print(\"Found the last card!\")\n",
    "                break\n",
    "    return winning_board, draw, board_num\n",
    "\n",
    "# FAUX DATA CORRECT ANSWER!!\n",
    "winning_board, draw, board_num = main(real=False, verbose=False)\n",
    "board_total = calculate_board(winning_board)\n",
    "print_board(winning_board, draw, board_num, board_total)"
   ]
  },
  {
   "cell_type": "code",
   "execution_count": 34,
   "metadata": {},
   "outputs": [
    {
     "name": "stdout",
     "output_type": "stream",
     "text": [
      "__________________\n",
      "|  X|73| X| X| X | Board#: 99\n",
      "| 29| X| X| X| X | Board has draw: 81\n",
      "|  X| X| X|37| X | Board Total: 223\n",
      "|  X| X| X|12| X | Answer: Draw * Board Total\n",
      "|  X| X| X| X|72 | 18063 = 81 * 223\n",
      "__________________\n"
     ]
    }
   ],
   "source": [
    "# FAUX DATA CORRECT ANSWER!!\n",
    "winning_board, draw, board_num = main(real=True, verbose=False)\n",
    "board_total = calculate_board(winning_board)\n",
    "print_board(winning_board, draw, board_num, board_total)"
   ]
  },
  {
   "cell_type": "code",
   "execution_count": null,
   "metadata": {},
   "outputs": [],
   "source": []
  }
 ],
 "metadata": {
  "interpreter": {
   "hash": "2be5faf79681da6f2a61fdfdd5405d65d042280f7fba6178067603e3a2925119"
  },
  "kernelspec": {
   "display_name": "Python 3.10.0 64-bit",
   "language": "python",
   "name": "python3"
  },
  "language_info": {
   "codemirror_mode": {
    "name": "ipython",
    "version": 3
   },
   "file_extension": ".py",
   "mimetype": "text/x-python",
   "name": "python",
   "nbconvert_exporter": "python",
   "pygments_lexer": "ipython3",
   "version": "3.10.0"
  },
  "orig_nbformat": 4
 },
 "nbformat": 4,
 "nbformat_minor": 2
}
